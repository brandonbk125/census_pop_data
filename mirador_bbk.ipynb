{
 "cells": [
  {
   "cell_type": "markdown",
   "id": "12ae561f",
   "metadata": {},
   "source": [
    "<h1>Data Science Privacy Task Sheet Answers - Brandon Barclay-Knight<h1>"
   ]
  },
  {
   "cell_type": "markdown",
   "id": "bbf1aba7",
   "metadata": {},
   "source": [
    "<h2>Inital data configuration<h2>"
   ]
  },
  {
   "cell_type": "code",
   "execution_count": 469,
   "id": "1f819556",
   "metadata": {},
   "outputs": [],
   "source": [
    "#Importing neccesary libraries\n",
    "import pandas as pd\n",
    "import numpy as np\n",
    "import matplotlib.pyplot as plt\n",
    "import seaborn as sns\n"
   ]
  },
  {
   "cell_type": "code",
   "execution_count": 470,
   "id": "b584d006",
   "metadata": {
    "scrolled": true
   },
   "outputs": [
    {
     "data": {
      "text/html": [
       "<div>\n",
       "<style scoped>\n",
       "    .dataframe tbody tr th:only-of-type {\n",
       "        vertical-align: middle;\n",
       "    }\n",
       "\n",
       "    .dataframe tbody tr th {\n",
       "        vertical-align: top;\n",
       "    }\n",
       "\n",
       "    .dataframe thead th {\n",
       "        text-align: right;\n",
       "    }\n",
       "</style>\n",
       "<table border=\"1\" class=\"dataframe\">\n",
       "  <thead>\n",
       "    <tr style=\"text-align: right;\">\n",
       "      <th></th>\n",
       "      <th>fileid</th>\n",
       "      <th>stusab</th>\n",
       "      <th>chariter</th>\n",
       "      <th>cifsn</th>\n",
       "      <th>logrecno</th>\n",
       "      <th>p0010001</th>\n",
       "      <th>sumlev</th>\n",
       "      <th>geocomp</th>\n",
       "      <th>zcta5</th>\n",
       "      <th>arealand</th>\n",
       "      <th>areawatr</th>\n",
       "      <th>name</th>\n",
       "      <th>funcstat</th>\n",
       "      <th>pop100</th>\n",
       "      <th>hu100</th>\n",
       "      <th>intptlat</th>\n",
       "      <th>intptlon</th>\n",
       "      <th>lsadc</th>\n",
       "    </tr>\n",
       "  </thead>\n",
       "  <tbody>\n",
       "    <tr>\n",
       "      <th>0</th>\n",
       "      <td>UR1US</td>\n",
       "      <td>US</td>\n",
       "      <td>0</td>\n",
       "      <td>1</td>\n",
       "      <td>479832</td>\n",
       "      <td>18570</td>\n",
       "      <td>860</td>\n",
       "      <td>0</td>\n",
       "      <td>601</td>\n",
       "      <td>166659789</td>\n",
       "      <td>799296</td>\n",
       "      <td>ZCTA5 00601</td>\n",
       "      <td>S</td>\n",
       "      <td>18570</td>\n",
       "      <td>7744</td>\n",
       "      <td>18.180556</td>\n",
       "      <td>-66.749961</td>\n",
       "      <td>Z5</td>\n",
       "    </tr>\n",
       "    <tr>\n",
       "      <th>1</th>\n",
       "      <td>UR1US</td>\n",
       "      <td>US</td>\n",
       "      <td>0</td>\n",
       "      <td>1</td>\n",
       "      <td>479836</td>\n",
       "      <td>41520</td>\n",
       "      <td>860</td>\n",
       "      <td>0</td>\n",
       "      <td>602</td>\n",
       "      <td>79288158</td>\n",
       "      <td>4446273</td>\n",
       "      <td>ZCTA5 00602</td>\n",
       "      <td>S</td>\n",
       "      <td>41520</td>\n",
       "      <td>18073</td>\n",
       "      <td>18.362268</td>\n",
       "      <td>-67.176130</td>\n",
       "      <td>Z5</td>\n",
       "    </tr>\n",
       "    <tr>\n",
       "      <th>2</th>\n",
       "      <td>UR1US</td>\n",
       "      <td>US</td>\n",
       "      <td>0</td>\n",
       "      <td>1</td>\n",
       "      <td>479839</td>\n",
       "      <td>54689</td>\n",
       "      <td>860</td>\n",
       "      <td>0</td>\n",
       "      <td>603</td>\n",
       "      <td>81880442</td>\n",
       "      <td>183425</td>\n",
       "      <td>ZCTA5 00603</td>\n",
       "      <td>S</td>\n",
       "      <td>54689</td>\n",
       "      <td>25653</td>\n",
       "      <td>18.455183</td>\n",
       "      <td>-67.119887</td>\n",
       "      <td>Z5</td>\n",
       "    </tr>\n",
       "    <tr>\n",
       "      <th>3</th>\n",
       "      <td>UR1US</td>\n",
       "      <td>US</td>\n",
       "      <td>0</td>\n",
       "      <td>1</td>\n",
       "      <td>479842</td>\n",
       "      <td>6615</td>\n",
       "      <td>860</td>\n",
       "      <td>0</td>\n",
       "      <td>606</td>\n",
       "      <td>109580061</td>\n",
       "      <td>12487</td>\n",
       "      <td>ZCTA5 00606</td>\n",
       "      <td>S</td>\n",
       "      <td>6615</td>\n",
       "      <td>2877</td>\n",
       "      <td>18.158345</td>\n",
       "      <td>-66.932911</td>\n",
       "      <td>Z5</td>\n",
       "    </tr>\n",
       "    <tr>\n",
       "      <th>4</th>\n",
       "      <td>UR1US</td>\n",
       "      <td>US</td>\n",
       "      <td>0</td>\n",
       "      <td>1</td>\n",
       "      <td>479847</td>\n",
       "      <td>29016</td>\n",
       "      <td>860</td>\n",
       "      <td>0</td>\n",
       "      <td>610</td>\n",
       "      <td>93021467</td>\n",
       "      <td>4172001</td>\n",
       "      <td>ZCTA5 00610</td>\n",
       "      <td>S</td>\n",
       "      <td>29016</td>\n",
       "      <td>12618</td>\n",
       "      <td>18.290955</td>\n",
       "      <td>-67.125868</td>\n",
       "      <td>Z5</td>\n",
       "    </tr>\n",
       "  </tbody>\n",
       "</table>\n",
       "</div>"
      ],
      "text/plain": [
       "  fileid stusab  chariter  cifsn  logrecno  p0010001  sumlev  geocomp  zcta5  \\\n",
       "0  UR1US     US         0      1    479832     18570     860        0    601   \n",
       "1  UR1US     US         0      1    479836     41520     860        0    602   \n",
       "2  UR1US     US         0      1    479839     54689     860        0    603   \n",
       "3  UR1US     US         0      1    479842      6615     860        0    606   \n",
       "4  UR1US     US         0      1    479847     29016     860        0    610   \n",
       "\n",
       "    arealand  areawatr         name funcstat  pop100  hu100   intptlat  \\\n",
       "0  166659789    799296  ZCTA5 00601        S   18570   7744  18.180556   \n",
       "1   79288158   4446273  ZCTA5 00602        S   41520  18073  18.362268   \n",
       "2   81880442    183425  ZCTA5 00603        S   54689  25653  18.455183   \n",
       "3  109580061     12487  ZCTA5 00606        S    6615   2877  18.158345   \n",
       "4   93021467   4172001  ZCTA5 00610        S   29016  12618  18.290955   \n",
       "\n",
       "    intptlon lsadc  \n",
       "0 -66.749961    Z5  \n",
       "1 -67.176130    Z5  \n",
       "2 -67.119887    Z5  \n",
       "3 -66.932911    Z5  \n",
       "4 -67.125868    Z5  "
      ]
     },
     "execution_count": 470,
     "metadata": {},
     "output_type": "execute_result"
    }
   ],
   "source": [
    "#Reading tasksheetdataa.csv to a dataframe\n",
    "dataFrameA = pd.read_csv(\"datasets/tasksheetdataa.csv\")\n",
    "dataFrameA.head()\n"
   ]
  },
  {
   "cell_type": "code",
   "execution_count": 471,
   "id": "cbe5268b",
   "metadata": {},
   "outputs": [
    {
     "data": {
      "text/html": [
       "<div>\n",
       "<style scoped>\n",
       "    .dataframe tbody tr th:only-of-type {\n",
       "        vertical-align: middle;\n",
       "    }\n",
       "\n",
       "    .dataframe tbody tr th {\n",
       "        vertical-align: top;\n",
       "    }\n",
       "\n",
       "    .dataframe thead th {\n",
       "        text-align: right;\n",
       "    }\n",
       "</style>\n",
       "<table border=\"1\" class=\"dataframe\">\n",
       "  <thead>\n",
       "    <tr style=\"text-align: right;\">\n",
       "      <th></th>\n",
       "      <th>zcta5</th>\n",
       "      <th>arealand</th>\n",
       "      <th>areawatr</th>\n",
       "      <th>name</th>\n",
       "      <th>pop100</th>\n",
       "      <th>hu100</th>\n",
       "      <th>intptlat</th>\n",
       "      <th>intptlon</th>\n",
       "    </tr>\n",
       "  </thead>\n",
       "  <tbody>\n",
       "    <tr>\n",
       "      <th>0</th>\n",
       "      <td>601</td>\n",
       "      <td>166659789</td>\n",
       "      <td>799296</td>\n",
       "      <td>ZCTA5 00601</td>\n",
       "      <td>18570</td>\n",
       "      <td>7744</td>\n",
       "      <td>18.180556</td>\n",
       "      <td>-66.749961</td>\n",
       "    </tr>\n",
       "    <tr>\n",
       "      <th>1</th>\n",
       "      <td>602</td>\n",
       "      <td>79288158</td>\n",
       "      <td>4446273</td>\n",
       "      <td>ZCTA5 00602</td>\n",
       "      <td>41520</td>\n",
       "      <td>18073</td>\n",
       "      <td>18.362268</td>\n",
       "      <td>-67.176130</td>\n",
       "    </tr>\n",
       "    <tr>\n",
       "      <th>2</th>\n",
       "      <td>603</td>\n",
       "      <td>81880442</td>\n",
       "      <td>183425</td>\n",
       "      <td>ZCTA5 00603</td>\n",
       "      <td>54689</td>\n",
       "      <td>25653</td>\n",
       "      <td>18.455183</td>\n",
       "      <td>-67.119887</td>\n",
       "    </tr>\n",
       "    <tr>\n",
       "      <th>3</th>\n",
       "      <td>606</td>\n",
       "      <td>109580061</td>\n",
       "      <td>12487</td>\n",
       "      <td>ZCTA5 00606</td>\n",
       "      <td>6615</td>\n",
       "      <td>2877</td>\n",
       "      <td>18.158345</td>\n",
       "      <td>-66.932911</td>\n",
       "    </tr>\n",
       "    <tr>\n",
       "      <th>4</th>\n",
       "      <td>610</td>\n",
       "      <td>93021467</td>\n",
       "      <td>4172001</td>\n",
       "      <td>ZCTA5 00610</td>\n",
       "      <td>29016</td>\n",
       "      <td>12618</td>\n",
       "      <td>18.290955</td>\n",
       "      <td>-67.125868</td>\n",
       "    </tr>\n",
       "  </tbody>\n",
       "</table>\n",
       "</div>"
      ],
      "text/plain": [
       "   zcta5   arealand  areawatr         name  pop100  hu100   intptlat  \\\n",
       "0    601  166659789    799296  ZCTA5 00601   18570   7744  18.180556   \n",
       "1    602   79288158   4446273  ZCTA5 00602   41520  18073  18.362268   \n",
       "2    603   81880442    183425  ZCTA5 00603   54689  25653  18.455183   \n",
       "3    606  109580061     12487  ZCTA5 00606    6615   2877  18.158345   \n",
       "4    610   93021467   4172001  ZCTA5 00610   29016  12618  18.290955   \n",
       "\n",
       "    intptlon  \n",
       "0 -66.749961  \n",
       "1 -67.176130  \n",
       "2 -67.119887  \n",
       "3 -66.932911  \n",
       "4 -67.125868  "
      ]
     },
     "execution_count": 471,
     "metadata": {},
     "output_type": "execute_result"
    }
   ],
   "source": [
    "#dropping irrelavent columns\n",
    "dfA = dataFrameA.drop(columns = ['fileid', 'stusab', 'chariter', 'cifsn', 'logrecno', 'p0010001', 'sumlev', 'geocomp', 'funcstat', 'lsadc'])\n",
    "dfA = dfA[dfA.pop100 != 0]\n",
    "dfA.head()"
   ]
  },
  {
   "cell_type": "code",
   "execution_count": 472,
   "id": "6f4fd11c",
   "metadata": {},
   "outputs": [
    {
     "data": {
      "text/html": [
       "<div>\n",
       "<style scoped>\n",
       "    .dataframe tbody tr th:only-of-type {\n",
       "        vertical-align: middle;\n",
       "    }\n",
       "\n",
       "    .dataframe tbody tr th {\n",
       "        vertical-align: top;\n",
       "    }\n",
       "\n",
       "    .dataframe thead th {\n",
       "        text-align: right;\n",
       "    }\n",
       "</style>\n",
       "<table border=\"1\" class=\"dataframe\">\n",
       "  <thead>\n",
       "    <tr style=\"text-align: right;\">\n",
       "      <th></th>\n",
       "      <th>country</th>\n",
       "      <th>zip</th>\n",
       "      <th>city</th>\n",
       "      <th>state</th>\n",
       "      <th>stusab</th>\n",
       "      <th>county</th>\n",
       "      <th>county_fips</th>\n",
       "      <th>community</th>\n",
       "      <th>community_code</th>\n",
       "      <th>latitude</th>\n",
       "      <th>longitude</th>\n",
       "      <th>accuracy</th>\n",
       "    </tr>\n",
       "  </thead>\n",
       "  <tbody>\n",
       "    <tr>\n",
       "      <th>0</th>\n",
       "      <td>US</td>\n",
       "      <td>99553</td>\n",
       "      <td>Akutan</td>\n",
       "      <td>Alaska</td>\n",
       "      <td>AK</td>\n",
       "      <td>Aleutians East</td>\n",
       "      <td>13.0</td>\n",
       "      <td>NaN</td>\n",
       "      <td>NaN</td>\n",
       "      <td>54.1430</td>\n",
       "      <td>-165.7854</td>\n",
       "      <td>1.0</td>\n",
       "    </tr>\n",
       "    <tr>\n",
       "      <th>1</th>\n",
       "      <td>US</td>\n",
       "      <td>99571</td>\n",
       "      <td>Cold Bay</td>\n",
       "      <td>Alaska</td>\n",
       "      <td>AK</td>\n",
       "      <td>Aleutians East</td>\n",
       "      <td>13.0</td>\n",
       "      <td>NaN</td>\n",
       "      <td>NaN</td>\n",
       "      <td>55.1858</td>\n",
       "      <td>-162.7211</td>\n",
       "      <td>1.0</td>\n",
       "    </tr>\n",
       "    <tr>\n",
       "      <th>2</th>\n",
       "      <td>US</td>\n",
       "      <td>99583</td>\n",
       "      <td>False Pass</td>\n",
       "      <td>Alaska</td>\n",
       "      <td>AK</td>\n",
       "      <td>Aleutians East</td>\n",
       "      <td>13.0</td>\n",
       "      <td>NaN</td>\n",
       "      <td>NaN</td>\n",
       "      <td>54.8542</td>\n",
       "      <td>-163.4113</td>\n",
       "      <td>1.0</td>\n",
       "    </tr>\n",
       "    <tr>\n",
       "      <th>3</th>\n",
       "      <td>US</td>\n",
       "      <td>99612</td>\n",
       "      <td>King Cove</td>\n",
       "      <td>Alaska</td>\n",
       "      <td>AK</td>\n",
       "      <td>Aleutians East</td>\n",
       "      <td>13.0</td>\n",
       "      <td>NaN</td>\n",
       "      <td>NaN</td>\n",
       "      <td>55.0628</td>\n",
       "      <td>-162.3056</td>\n",
       "      <td>1.0</td>\n",
       "    </tr>\n",
       "    <tr>\n",
       "      <th>4</th>\n",
       "      <td>US</td>\n",
       "      <td>99661</td>\n",
       "      <td>Sand Point</td>\n",
       "      <td>Alaska</td>\n",
       "      <td>AK</td>\n",
       "      <td>Aleutians East</td>\n",
       "      <td>13.0</td>\n",
       "      <td>NaN</td>\n",
       "      <td>NaN</td>\n",
       "      <td>55.3192</td>\n",
       "      <td>-160.4914</td>\n",
       "      <td>1.0</td>\n",
       "    </tr>\n",
       "  </tbody>\n",
       "</table>\n",
       "</div>"
      ],
      "text/plain": [
       "  country    zip        city   state stusab          county  county_fips  \\\n",
       "0      US  99553      Akutan  Alaska     AK  Aleutians East         13.0   \n",
       "1      US  99571    Cold Bay  Alaska     AK  Aleutians East         13.0   \n",
       "2      US  99583  False Pass  Alaska     AK  Aleutians East         13.0   \n",
       "3      US  99612   King Cove  Alaska     AK  Aleutians East         13.0   \n",
       "4      US  99661  Sand Point  Alaska     AK  Aleutians East         13.0   \n",
       "\n",
       "  community  community_code  latitude  longitude  accuracy  \n",
       "0       NaN             NaN   54.1430  -165.7854       1.0  \n",
       "1       NaN             NaN   55.1858  -162.7211       1.0  \n",
       "2       NaN             NaN   54.8542  -163.4113       1.0  \n",
       "3       NaN             NaN   55.0628  -162.3056       1.0  \n",
       "4       NaN             NaN   55.3192  -160.4914       1.0  "
      ]
     },
     "execution_count": 472,
     "metadata": {},
     "output_type": "execute_result"
    }
   ],
   "source": [
    "#reading tasksheetdataz.csv to a dataframe\n",
    "dataFrameZ = pd.read_csv(\"datasets/tasksheetdataz.csv\")\n",
    "dataFrameZ.head()"
   ]
  },
  {
   "cell_type": "code",
   "execution_count": 473,
   "id": "58ea2fac",
   "metadata": {},
   "outputs": [
    {
     "data": {
      "text/html": [
       "<div>\n",
       "<style scoped>\n",
       "    .dataframe tbody tr th:only-of-type {\n",
       "        vertical-align: middle;\n",
       "    }\n",
       "\n",
       "    .dataframe tbody tr th {\n",
       "        vertical-align: top;\n",
       "    }\n",
       "\n",
       "    .dataframe thead th {\n",
       "        text-align: right;\n",
       "    }\n",
       "</style>\n",
       "<table border=\"1\" class=\"dataframe\">\n",
       "  <thead>\n",
       "    <tr style=\"text-align: right;\">\n",
       "      <th></th>\n",
       "      <th>zip</th>\n",
       "      <th>city</th>\n",
       "      <th>state</th>\n",
       "      <th>stusab</th>\n",
       "      <th>county</th>\n",
       "    </tr>\n",
       "  </thead>\n",
       "  <tbody>\n",
       "    <tr>\n",
       "      <th>0</th>\n",
       "      <td>99553</td>\n",
       "      <td>Akutan</td>\n",
       "      <td>Alaska</td>\n",
       "      <td>AK</td>\n",
       "      <td>Aleutians East</td>\n",
       "    </tr>\n",
       "    <tr>\n",
       "      <th>1</th>\n",
       "      <td>99571</td>\n",
       "      <td>Cold Bay</td>\n",
       "      <td>Alaska</td>\n",
       "      <td>AK</td>\n",
       "      <td>Aleutians East</td>\n",
       "    </tr>\n",
       "    <tr>\n",
       "      <th>2</th>\n",
       "      <td>99583</td>\n",
       "      <td>False Pass</td>\n",
       "      <td>Alaska</td>\n",
       "      <td>AK</td>\n",
       "      <td>Aleutians East</td>\n",
       "    </tr>\n",
       "    <tr>\n",
       "      <th>3</th>\n",
       "      <td>99612</td>\n",
       "      <td>King Cove</td>\n",
       "      <td>Alaska</td>\n",
       "      <td>AK</td>\n",
       "      <td>Aleutians East</td>\n",
       "    </tr>\n",
       "    <tr>\n",
       "      <th>4</th>\n",
       "      <td>99661</td>\n",
       "      <td>Sand Point</td>\n",
       "      <td>Alaska</td>\n",
       "      <td>AK</td>\n",
       "      <td>Aleutians East</td>\n",
       "    </tr>\n",
       "    <tr>\n",
       "      <th>...</th>\n",
       "      <td>...</td>\n",
       "      <td>...</td>\n",
       "      <td>...</td>\n",
       "      <td>...</td>\n",
       "      <td>...</td>\n",
       "    </tr>\n",
       "    <tr>\n",
       "      <th>40953</th>\n",
       "      <td>82442</td>\n",
       "      <td>Ten Sleep</td>\n",
       "      <td>Wyoming</td>\n",
       "      <td>WY</td>\n",
       "      <td>Washakie</td>\n",
       "    </tr>\n",
       "    <tr>\n",
       "      <th>40954</th>\n",
       "      <td>82701</td>\n",
       "      <td>Newcastle</td>\n",
       "      <td>Wyoming</td>\n",
       "      <td>WY</td>\n",
       "      <td>Weston</td>\n",
       "    </tr>\n",
       "    <tr>\n",
       "      <th>40955</th>\n",
       "      <td>82715</td>\n",
       "      <td>Four Corners</td>\n",
       "      <td>Wyoming</td>\n",
       "      <td>WY</td>\n",
       "      <td>Weston</td>\n",
       "    </tr>\n",
       "    <tr>\n",
       "      <th>40956</th>\n",
       "      <td>82723</td>\n",
       "      <td>Osage</td>\n",
       "      <td>Wyoming</td>\n",
       "      <td>WY</td>\n",
       "      <td>Weston</td>\n",
       "    </tr>\n",
       "    <tr>\n",
       "      <th>40957</th>\n",
       "      <td>82730</td>\n",
       "      <td>Upton</td>\n",
       "      <td>Wyoming</td>\n",
       "      <td>WY</td>\n",
       "      <td>Weston</td>\n",
       "    </tr>\n",
       "  </tbody>\n",
       "</table>\n",
       "<p>40956 rows × 5 columns</p>\n",
       "</div>"
      ],
      "text/plain": [
       "         zip          city    state stusab          county\n",
       "0      99553        Akutan   Alaska     AK  Aleutians East\n",
       "1      99571      Cold Bay   Alaska     AK  Aleutians East\n",
       "2      99583    False Pass   Alaska     AK  Aleutians East\n",
       "3      99612     King Cove   Alaska     AK  Aleutians East\n",
       "4      99661    Sand Point   Alaska     AK  Aleutians East\n",
       "...      ...           ...      ...    ...             ...\n",
       "40953  82442     Ten Sleep  Wyoming     WY        Washakie\n",
       "40954  82701     Newcastle  Wyoming     WY          Weston\n",
       "40955  82715  Four Corners  Wyoming     WY          Weston\n",
       "40956  82723         Osage  Wyoming     WY          Weston\n",
       "40957  82730         Upton  Wyoming     WY          Weston\n",
       "\n",
       "[40956 rows x 5 columns]"
      ]
     },
     "execution_count": 473,
     "metadata": {},
     "output_type": "execute_result"
    }
   ],
   "source": [
    "#dropping irrelavent columns\n",
    "dfZ = dataFrameZ.drop(columns=['country', 'county_fips', 'community', 'community_code', 'latitude', 'longitude', 'accuracy']).dropna(how = 'any')\n",
    "dfZ"
   ]
  },
  {
   "cell_type": "code",
   "execution_count": 474,
   "id": "8c363f25",
   "metadata": {},
   "outputs": [
    {
     "data": {
      "text/html": [
       "<div>\n",
       "<style scoped>\n",
       "    .dataframe tbody tr th:only-of-type {\n",
       "        vertical-align: middle;\n",
       "    }\n",
       "\n",
       "    .dataframe tbody tr th {\n",
       "        vertical-align: top;\n",
       "    }\n",
       "\n",
       "    .dataframe thead th {\n",
       "        text-align: right;\n",
       "    }\n",
       "</style>\n",
       "<table border=\"1\" class=\"dataframe\">\n",
       "  <thead>\n",
       "    <tr style=\"text-align: right;\">\n",
       "      <th></th>\n",
       "      <th>zcta5</th>\n",
       "      <th>arealand</th>\n",
       "      <th>areawatr</th>\n",
       "      <th>name</th>\n",
       "      <th>pop100</th>\n",
       "      <th>hu100</th>\n",
       "      <th>intptlat</th>\n",
       "      <th>intptlon</th>\n",
       "      <th>city</th>\n",
       "      <th>state</th>\n",
       "      <th>stusab</th>\n",
       "      <th>county</th>\n",
       "    </tr>\n",
       "  </thead>\n",
       "  <tbody>\n",
       "    <tr>\n",
       "      <th>0</th>\n",
       "      <td>1001</td>\n",
       "      <td>29635470</td>\n",
       "      <td>2229770</td>\n",
       "      <td>ZCTA5 01001</td>\n",
       "      <td>16769</td>\n",
       "      <td>7557</td>\n",
       "      <td>42.062332</td>\n",
       "      <td>-72.628274</td>\n",
       "      <td>Agawam</td>\n",
       "      <td>Massachusetts</td>\n",
       "      <td>MA</td>\n",
       "      <td>Hampden</td>\n",
       "    </tr>\n",
       "    <tr>\n",
       "      <th>1</th>\n",
       "      <td>1002</td>\n",
       "      <td>142556362</td>\n",
       "      <td>4280260</td>\n",
       "      <td>ZCTA5 01002</td>\n",
       "      <td>29049</td>\n",
       "      <td>10388</td>\n",
       "      <td>42.363977</td>\n",
       "      <td>-72.458507</td>\n",
       "      <td>Amherst</td>\n",
       "      <td>Massachusetts</td>\n",
       "      <td>MA</td>\n",
       "      <td>Hampshire</td>\n",
       "    </tr>\n",
       "    <tr>\n",
       "      <th>2</th>\n",
       "      <td>1003</td>\n",
       "      <td>1842384</td>\n",
       "      <td>12788</td>\n",
       "      <td>ZCTA5 01003</td>\n",
       "      <td>10372</td>\n",
       "      <td>5</td>\n",
       "      <td>42.389941</td>\n",
       "      <td>-72.524108</td>\n",
       "      <td>Amherst</td>\n",
       "      <td>Massachusetts</td>\n",
       "      <td>MA</td>\n",
       "      <td>Hampshire</td>\n",
       "    </tr>\n",
       "    <tr>\n",
       "      <th>3</th>\n",
       "      <td>1005</td>\n",
       "      <td>114586903</td>\n",
       "      <td>667042</td>\n",
       "      <td>ZCTA5 01005</td>\n",
       "      <td>5079</td>\n",
       "      <td>2044</td>\n",
       "      <td>42.418848</td>\n",
       "      <td>-72.106598</td>\n",
       "      <td>Barre</td>\n",
       "      <td>Massachusetts</td>\n",
       "      <td>MA</td>\n",
       "      <td>Worcester</td>\n",
       "    </tr>\n",
       "    <tr>\n",
       "      <th>4</th>\n",
       "      <td>1007</td>\n",
       "      <td>136345999</td>\n",
       "      <td>6943853</td>\n",
       "      <td>ZCTA5 01007</td>\n",
       "      <td>14649</td>\n",
       "      <td>5839</td>\n",
       "      <td>42.279010</td>\n",
       "      <td>-72.400468</td>\n",
       "      <td>Belchertown</td>\n",
       "      <td>Massachusetts</td>\n",
       "      <td>MA</td>\n",
       "      <td>Hampshire</td>\n",
       "    </tr>\n",
       "  </tbody>\n",
       "</table>\n",
       "</div>"
      ],
      "text/plain": [
       "   zcta5   arealand  areawatr         name  pop100  hu100   intptlat  \\\n",
       "0   1001   29635470   2229770  ZCTA5 01001   16769   7557  42.062332   \n",
       "1   1002  142556362   4280260  ZCTA5 01002   29049  10388  42.363977   \n",
       "2   1003    1842384     12788  ZCTA5 01003   10372      5  42.389941   \n",
       "3   1005  114586903    667042  ZCTA5 01005    5079   2044  42.418848   \n",
       "4   1007  136345999   6943853  ZCTA5 01007   14649   5839  42.279010   \n",
       "\n",
       "    intptlon         city          state stusab     county  \n",
       "0 -72.628274       Agawam  Massachusetts     MA    Hampden  \n",
       "1 -72.458507      Amherst  Massachusetts     MA  Hampshire  \n",
       "2 -72.524108      Amherst  Massachusetts     MA  Hampshire  \n",
       "3 -72.106598        Barre  Massachusetts     MA  Worcester  \n",
       "4 -72.400468  Belchertown  Massachusetts     MA  Hampshire  "
      ]
     },
     "execution_count": 474,
     "metadata": {},
     "output_type": "execute_result"
    }
   ],
   "source": [
    "#inner join on the two dataframes created above on the zipcodes\n",
    "df = pd.merge(left=dfA, right=dfZ, left_on='zcta5', right_on='zip').drop('zip', axis=1)\n",
    "df.head()\n"
   ]
  },
  {
   "cell_type": "markdown",
   "id": "22ff7325",
   "metadata": {},
   "source": [
    "<h1>a) State with the most 5-digit ZIP codes<h1>"
   ]
  },
  {
   "cell_type": "code",
   "execution_count": 475,
   "id": "b88b00ce",
   "metadata": {},
   "outputs": [
    {
     "data": {
      "text/plain": [
       "Texas           1929\n",
       "Pennsylvania    1788\n",
       "New York        1768\n",
       "California      1752\n",
       "Illinois        1383\n",
       "Name: state, dtype: int64"
      ]
     },
     "execution_count": 475,
     "metadata": {},
     "output_type": "execute_result"
    }
   ],
   "source": [
    "df['state'].value_counts().head()"
   ]
  },
  {
   "cell_type": "markdown",
   "id": "ab7589b8",
   "metadata": {},
   "source": [
    "<p1>The state with the most 5-digit ZIP codes is Texas with 1929<p1>"
   ]
  },
  {
   "cell_type": "markdown",
   "id": "5b807057",
   "metadata": {},
   "source": [
    "<h2>b)<h2>"
   ]
  },
  {
   "cell_type": "markdown",
   "id": "b94b1cd8",
   "metadata": {},
   "source": [
    "<h3>i) Most easterly<h3>"
   ]
  },
  {
   "cell_type": "code",
   "execution_count": 476,
   "id": "bdcb0820",
   "metadata": {},
   "outputs": [
    {
     "data": {
      "text/plain": [
       "99723"
      ]
     },
     "execution_count": 476,
     "metadata": {},
     "output_type": "execute_result"
    }
   ],
   "source": [
    "df.loc[df['intptlat'].idxmax()].loc['zcta5']"
   ]
  },
  {
   "cell_type": "markdown",
   "id": "7d8bd5a5",
   "metadata": {},
   "source": [
    "<p1>Most easterly excluding Alaska<p1>"
   ]
  },
  {
   "cell_type": "code",
   "execution_count": 477,
   "id": "c85545a1",
   "metadata": {},
   "outputs": [
    {
     "data": {
      "text/plain": [
       "56711"
      ]
     },
     "execution_count": 477,
     "metadata": {},
     "output_type": "execute_result"
    }
   ],
   "source": [
    "dfWithoutAlaska = df[df.state != 'Alaska']\n",
    "dfWithoutAlaska.loc[dfWithoutAlaska['intptlat'].idxmax()].loc['zcta5']"
   ]
  },
  {
   "cell_type": "markdown",
   "id": "f264db5f",
   "metadata": {},
   "source": [
    "<h3>ii) Most westerly<h3>"
   ]
  },
  {
   "cell_type": "code",
   "execution_count": 478,
   "id": "e84694b0",
   "metadata": {},
   "outputs": [
    {
     "data": {
      "text/plain": [
       "96737"
      ]
     },
     "execution_count": 478,
     "metadata": {},
     "output_type": "execute_result"
    }
   ],
   "source": [
    "df.loc[df['intptlat'].idxmin()].loc['zcta5']"
   ]
  },
  {
   "cell_type": "markdown",
   "id": "0e02de28",
   "metadata": {},
   "source": [
    "<h3>iii) Most northerly<h3>"
   ]
  },
  {
   "cell_type": "code",
   "execution_count": 479,
   "id": "e59a8848",
   "metadata": {},
   "outputs": [
    {
     "data": {
      "text/plain": [
       "4631"
      ]
     },
     "execution_count": 479,
     "metadata": {},
     "output_type": "execute_result"
    }
   ],
   "source": [
    "df.loc[df['intptlon'].idxmax()].loc['zcta5']"
   ]
  },
  {
   "cell_type": "markdown",
   "id": "15f12ce3",
   "metadata": {},
   "source": [
    "<h2>c) ZIP code with highest population density<h2>"
   ]
  },
  {
   "cell_type": "code",
   "execution_count": 480,
   "id": "8df1a19d",
   "metadata": {},
   "outputs": [
    {
     "data": {
      "text/html": [
       "<div>\n",
       "<style scoped>\n",
       "    .dataframe tbody tr th:only-of-type {\n",
       "        vertical-align: middle;\n",
       "    }\n",
       "\n",
       "    .dataframe tbody tr th {\n",
       "        vertical-align: top;\n",
       "    }\n",
       "\n",
       "    .dataframe thead th {\n",
       "        text-align: right;\n",
       "    }\n",
       "</style>\n",
       "<table border=\"1\" class=\"dataframe\">\n",
       "  <thead>\n",
       "    <tr style=\"text-align: right;\">\n",
       "      <th></th>\n",
       "      <th>zcta5</th>\n",
       "      <th>arealand</th>\n",
       "      <th>areawatr</th>\n",
       "      <th>name</th>\n",
       "      <th>pop100</th>\n",
       "      <th>hu100</th>\n",
       "      <th>intptlat</th>\n",
       "      <th>intptlon</th>\n",
       "      <th>city</th>\n",
       "      <th>state</th>\n",
       "      <th>stusab</th>\n",
       "      <th>county</th>\n",
       "      <th>popdensity</th>\n",
       "    </tr>\n",
       "  </thead>\n",
       "  <tbody>\n",
       "    <tr>\n",
       "      <th>0</th>\n",
       "      <td>1001</td>\n",
       "      <td>29635470</td>\n",
       "      <td>2229770</td>\n",
       "      <td>ZCTA5 01001</td>\n",
       "      <td>16769</td>\n",
       "      <td>7557</td>\n",
       "      <td>42.062332</td>\n",
       "      <td>-72.628274</td>\n",
       "      <td>Agawam</td>\n",
       "      <td>Massachusetts</td>\n",
       "      <td>MA</td>\n",
       "      <td>Hampden</td>\n",
       "      <td>565.84</td>\n",
       "    </tr>\n",
       "    <tr>\n",
       "      <th>1</th>\n",
       "      <td>1002</td>\n",
       "      <td>142556362</td>\n",
       "      <td>4280260</td>\n",
       "      <td>ZCTA5 01002</td>\n",
       "      <td>29049</td>\n",
       "      <td>10388</td>\n",
       "      <td>42.363977</td>\n",
       "      <td>-72.458507</td>\n",
       "      <td>Amherst</td>\n",
       "      <td>Massachusetts</td>\n",
       "      <td>MA</td>\n",
       "      <td>Hampshire</td>\n",
       "      <td>203.77</td>\n",
       "    </tr>\n",
       "    <tr>\n",
       "      <th>2</th>\n",
       "      <td>1003</td>\n",
       "      <td>1842384</td>\n",
       "      <td>12788</td>\n",
       "      <td>ZCTA5 01003</td>\n",
       "      <td>10372</td>\n",
       "      <td>5</td>\n",
       "      <td>42.389941</td>\n",
       "      <td>-72.524108</td>\n",
       "      <td>Amherst</td>\n",
       "      <td>Massachusetts</td>\n",
       "      <td>MA</td>\n",
       "      <td>Hampshire</td>\n",
       "      <td>5629.66</td>\n",
       "    </tr>\n",
       "    <tr>\n",
       "      <th>3</th>\n",
       "      <td>1005</td>\n",
       "      <td>114586903</td>\n",
       "      <td>667042</td>\n",
       "      <td>ZCTA5 01005</td>\n",
       "      <td>5079</td>\n",
       "      <td>2044</td>\n",
       "      <td>42.418848</td>\n",
       "      <td>-72.106598</td>\n",
       "      <td>Barre</td>\n",
       "      <td>Massachusetts</td>\n",
       "      <td>MA</td>\n",
       "      <td>Worcester</td>\n",
       "      <td>44.32</td>\n",
       "    </tr>\n",
       "    <tr>\n",
       "      <th>4</th>\n",
       "      <td>1007</td>\n",
       "      <td>136345999</td>\n",
       "      <td>6943853</td>\n",
       "      <td>ZCTA5 01007</td>\n",
       "      <td>14649</td>\n",
       "      <td>5839</td>\n",
       "      <td>42.279010</td>\n",
       "      <td>-72.400468</td>\n",
       "      <td>Belchertown</td>\n",
       "      <td>Massachusetts</td>\n",
       "      <td>MA</td>\n",
       "      <td>Hampshire</td>\n",
       "      <td>107.44</td>\n",
       "    </tr>\n",
       "    <tr>\n",
       "      <th>...</th>\n",
       "      <td>...</td>\n",
       "      <td>...</td>\n",
       "      <td>...</td>\n",
       "      <td>...</td>\n",
       "      <td>...</td>\n",
       "      <td>...</td>\n",
       "      <td>...</td>\n",
       "      <td>...</td>\n",
       "      <td>...</td>\n",
       "      <td>...</td>\n",
       "      <td>...</td>\n",
       "      <td>...</td>\n",
       "      <td>...</td>\n",
       "    </tr>\n",
       "    <tr>\n",
       "      <th>32827</th>\n",
       "      <td>99923</td>\n",
       "      <td>35937519</td>\n",
       "      <td>2117</td>\n",
       "      <td>ZCTA5 99923</td>\n",
       "      <td>87</td>\n",
       "      <td>90</td>\n",
       "      <td>56.002315</td>\n",
       "      <td>-130.041026</td>\n",
       "      <td>Hyder</td>\n",
       "      <td>Alaska</td>\n",
       "      <td>AK</td>\n",
       "      <td>Prince of Wales-Hyder</td>\n",
       "      <td>2.42</td>\n",
       "    </tr>\n",
       "    <tr>\n",
       "      <th>32828</th>\n",
       "      <td>99925</td>\n",
       "      <td>144503281</td>\n",
       "      <td>36906383</td>\n",
       "      <td>ZCTA5 99925</td>\n",
       "      <td>819</td>\n",
       "      <td>400</td>\n",
       "      <td>55.550204</td>\n",
       "      <td>-132.945933</td>\n",
       "      <td>Klawock</td>\n",
       "      <td>Alaska</td>\n",
       "      <td>AK</td>\n",
       "      <td>Prince of Wales-Hyder</td>\n",
       "      <td>5.67</td>\n",
       "    </tr>\n",
       "    <tr>\n",
       "      <th>32829</th>\n",
       "      <td>99926</td>\n",
       "      <td>343947256</td>\n",
       "      <td>213335869</td>\n",
       "      <td>ZCTA5 99926</td>\n",
       "      <td>1460</td>\n",
       "      <td>544</td>\n",
       "      <td>55.138069</td>\n",
       "      <td>-131.470741</td>\n",
       "      <td>Metlakatla</td>\n",
       "      <td>Alaska</td>\n",
       "      <td>AK</td>\n",
       "      <td>Prince of Wales-Hyder</td>\n",
       "      <td>4.24</td>\n",
       "    </tr>\n",
       "    <tr>\n",
       "      <th>32830</th>\n",
       "      <td>99927</td>\n",
       "      <td>589688205</td>\n",
       "      <td>18001151</td>\n",
       "      <td>ZCTA5 99927</td>\n",
       "      <td>94</td>\n",
       "      <td>101</td>\n",
       "      <td>56.239062</td>\n",
       "      <td>-133.457924</td>\n",
       "      <td>Point Baker</td>\n",
       "      <td>Alaska</td>\n",
       "      <td>AK</td>\n",
       "      <td>Prince of Wales-Hyder</td>\n",
       "      <td>0.16</td>\n",
       "    </tr>\n",
       "    <tr>\n",
       "      <th>32831</th>\n",
       "      <td>99929</td>\n",
       "      <td>5598556684</td>\n",
       "      <td>637412657</td>\n",
       "      <td>ZCTA5 99929</td>\n",
       "      <td>2338</td>\n",
       "      <td>1339</td>\n",
       "      <td>56.413828</td>\n",
       "      <td>-131.606832</td>\n",
       "      <td>Wrangell</td>\n",
       "      <td>Alaska</td>\n",
       "      <td>AK</td>\n",
       "      <td>Wrangell-Petersburg (C</td>\n",
       "      <td>0.42</td>\n",
       "    </tr>\n",
       "  </tbody>\n",
       "</table>\n",
       "<p>32832 rows × 13 columns</p>\n",
       "</div>"
      ],
      "text/plain": [
       "       zcta5    arealand   areawatr         name  pop100  hu100   intptlat  \\\n",
       "0       1001    29635470    2229770  ZCTA5 01001   16769   7557  42.062332   \n",
       "1       1002   142556362    4280260  ZCTA5 01002   29049  10388  42.363977   \n",
       "2       1003     1842384      12788  ZCTA5 01003   10372      5  42.389941   \n",
       "3       1005   114586903     667042  ZCTA5 01005    5079   2044  42.418848   \n",
       "4       1007   136345999    6943853  ZCTA5 01007   14649   5839  42.279010   \n",
       "...      ...         ...        ...          ...     ...    ...        ...   \n",
       "32827  99923    35937519       2117  ZCTA5 99923      87     90  56.002315   \n",
       "32828  99925   144503281   36906383  ZCTA5 99925     819    400  55.550204   \n",
       "32829  99926   343947256  213335869  ZCTA5 99926    1460    544  55.138069   \n",
       "32830  99927   589688205   18001151  ZCTA5 99927      94    101  56.239062   \n",
       "32831  99929  5598556684  637412657  ZCTA5 99929    2338   1339  56.413828   \n",
       "\n",
       "         intptlon         city          state stusab                  county  \\\n",
       "0      -72.628274       Agawam  Massachusetts     MA                 Hampden   \n",
       "1      -72.458507      Amherst  Massachusetts     MA               Hampshire   \n",
       "2      -72.524108      Amherst  Massachusetts     MA               Hampshire   \n",
       "3      -72.106598        Barre  Massachusetts     MA               Worcester   \n",
       "4      -72.400468  Belchertown  Massachusetts     MA               Hampshire   \n",
       "...           ...          ...            ...    ...                     ...   \n",
       "32827 -130.041026        Hyder         Alaska     AK   Prince of Wales-Hyder   \n",
       "32828 -132.945933      Klawock         Alaska     AK   Prince of Wales-Hyder   \n",
       "32829 -131.470741   Metlakatla         Alaska     AK   Prince of Wales-Hyder   \n",
       "32830 -133.457924  Point Baker         Alaska     AK   Prince of Wales-Hyder   \n",
       "32831 -131.606832     Wrangell         Alaska     AK  Wrangell-Petersburg (C   \n",
       "\n",
       "       popdensity  \n",
       "0          565.84  \n",
       "1          203.77  \n",
       "2         5629.66  \n",
       "3           44.32  \n",
       "4          107.44  \n",
       "...           ...  \n",
       "32827        2.42  \n",
       "32828        5.67  \n",
       "32829        4.24  \n",
       "32830        0.16  \n",
       "32831        0.42  \n",
       "\n",
       "[32832 rows x 13 columns]"
      ]
     },
     "execution_count": 480,
     "metadata": {},
     "output_type": "execute_result"
    }
   ],
   "source": [
    "#The arealand atrribute is currently in square metres so I will convert this to square kilometres\n",
    "#Resulting population density will be in people per sq kilometres\n",
    "df[\"popdensity\"] = round(df[\"pop100\"] / (df[\"arealand\"]/1000000),2)\n",
    "df"
   ]
  },
  {
   "cell_type": "code",
   "execution_count": 481,
   "id": "c5841250",
   "metadata": {},
   "outputs": [
    {
     "data": {
      "text/plain": [
       "zcta5                        20052\n",
       "arealand                      7062\n",
       "areawatr                         0\n",
       "name                   ZCTA5 20052\n",
       "pop100                         470\n",
       "hu100                            6\n",
       "intptlat                 38.900126\n",
       "intptlon                -77.046981\n",
       "city                    Washington\n",
       "state         District of Columbia\n",
       "stusab                          DC\n",
       "county        District of Columbia\n",
       "popdensity                66553.38\n",
       "Name: 6064, dtype: object"
      ]
     },
     "execution_count": 481,
     "metadata": {},
     "output_type": "execute_result"
    }
   ],
   "source": [
    "#locate the row with the maximum popdensity value in the dataframe\n",
    "df.loc[df['popdensity'].idxmax()]"
   ]
  },
  {
   "cell_type": "markdown",
   "id": "a474bc15",
   "metadata": {},
   "source": [
    "<p1>ZIP code 20052 has a population density of 66553.38 people per square kilometre.<p1>"
   ]
  },
  {
   "cell_type": "markdown",
   "id": "0d014f07",
   "metadata": {},
   "source": [
    "<h2>d)<h2>"
   ]
  },
  {
   "cell_type": "markdown",
   "id": "0dde07a8",
   "metadata": {},
   "source": [
    "<h3>i)<h3>"
   ]
  },
  {
   "cell_type": "code",
   "execution_count": 482,
   "id": "ed3b657a",
   "metadata": {},
   "outputs": [
    {
     "data": {
      "text/html": [
       "<div>\n",
       "<style scoped>\n",
       "    .dataframe tbody tr th:only-of-type {\n",
       "        vertical-align: middle;\n",
       "    }\n",
       "\n",
       "    .dataframe tbody tr th {\n",
       "        vertical-align: top;\n",
       "    }\n",
       "\n",
       "    .dataframe thead th {\n",
       "        text-align: right;\n",
       "    }\n",
       "</style>\n",
       "<table border=\"1\" class=\"dataframe\">\n",
       "  <thead>\n",
       "    <tr style=\"text-align: right;\">\n",
       "      <th></th>\n",
       "      <th>zcta5</th>\n",
       "      <th>arealand</th>\n",
       "      <th>areawatr</th>\n",
       "      <th>name</th>\n",
       "      <th>pop100</th>\n",
       "      <th>hu100</th>\n",
       "      <th>intptlat</th>\n",
       "      <th>intptlon</th>\n",
       "      <th>city</th>\n",
       "      <th>state</th>\n",
       "      <th>stusab</th>\n",
       "      <th>county</th>\n",
       "      <th>popdensity</th>\n",
       "      <th>zcta3</th>\n",
       "    </tr>\n",
       "  </thead>\n",
       "  <tbody>\n",
       "    <tr>\n",
       "      <th>0</th>\n",
       "      <td>1001</td>\n",
       "      <td>29635470</td>\n",
       "      <td>2229770</td>\n",
       "      <td>ZCTA5 01001</td>\n",
       "      <td>16769</td>\n",
       "      <td>7557</td>\n",
       "      <td>42.062332</td>\n",
       "      <td>-72.628274</td>\n",
       "      <td>Agawam</td>\n",
       "      <td>Massachusetts</td>\n",
       "      <td>MA</td>\n",
       "      <td>Hampden</td>\n",
       "      <td>565.84</td>\n",
       "      <td>10</td>\n",
       "    </tr>\n",
       "    <tr>\n",
       "      <th>1</th>\n",
       "      <td>1002</td>\n",
       "      <td>142556362</td>\n",
       "      <td>4280260</td>\n",
       "      <td>ZCTA5 01002</td>\n",
       "      <td>29049</td>\n",
       "      <td>10388</td>\n",
       "      <td>42.363977</td>\n",
       "      <td>-72.458507</td>\n",
       "      <td>Amherst</td>\n",
       "      <td>Massachusetts</td>\n",
       "      <td>MA</td>\n",
       "      <td>Hampshire</td>\n",
       "      <td>203.77</td>\n",
       "      <td>10</td>\n",
       "    </tr>\n",
       "    <tr>\n",
       "      <th>2</th>\n",
       "      <td>1003</td>\n",
       "      <td>1842384</td>\n",
       "      <td>12788</td>\n",
       "      <td>ZCTA5 01003</td>\n",
       "      <td>10372</td>\n",
       "      <td>5</td>\n",
       "      <td>42.389941</td>\n",
       "      <td>-72.524108</td>\n",
       "      <td>Amherst</td>\n",
       "      <td>Massachusetts</td>\n",
       "      <td>MA</td>\n",
       "      <td>Hampshire</td>\n",
       "      <td>5629.66</td>\n",
       "      <td>10</td>\n",
       "    </tr>\n",
       "    <tr>\n",
       "      <th>3</th>\n",
       "      <td>1005</td>\n",
       "      <td>114586903</td>\n",
       "      <td>667042</td>\n",
       "      <td>ZCTA5 01005</td>\n",
       "      <td>5079</td>\n",
       "      <td>2044</td>\n",
       "      <td>42.418848</td>\n",
       "      <td>-72.106598</td>\n",
       "      <td>Barre</td>\n",
       "      <td>Massachusetts</td>\n",
       "      <td>MA</td>\n",
       "      <td>Worcester</td>\n",
       "      <td>44.32</td>\n",
       "      <td>10</td>\n",
       "    </tr>\n",
       "    <tr>\n",
       "      <th>4</th>\n",
       "      <td>1007</td>\n",
       "      <td>136345999</td>\n",
       "      <td>6943853</td>\n",
       "      <td>ZCTA5 01007</td>\n",
       "      <td>14649</td>\n",
       "      <td>5839</td>\n",
       "      <td>42.279010</td>\n",
       "      <td>-72.400468</td>\n",
       "      <td>Belchertown</td>\n",
       "      <td>Massachusetts</td>\n",
       "      <td>MA</td>\n",
       "      <td>Hampshire</td>\n",
       "      <td>107.44</td>\n",
       "      <td>10</td>\n",
       "    </tr>\n",
       "    <tr>\n",
       "      <th>...</th>\n",
       "      <td>...</td>\n",
       "      <td>...</td>\n",
       "      <td>...</td>\n",
       "      <td>...</td>\n",
       "      <td>...</td>\n",
       "      <td>...</td>\n",
       "      <td>...</td>\n",
       "      <td>...</td>\n",
       "      <td>...</td>\n",
       "      <td>...</td>\n",
       "      <td>...</td>\n",
       "      <td>...</td>\n",
       "      <td>...</td>\n",
       "      <td>...</td>\n",
       "    </tr>\n",
       "    <tr>\n",
       "      <th>32827</th>\n",
       "      <td>99923</td>\n",
       "      <td>35937519</td>\n",
       "      <td>2117</td>\n",
       "      <td>ZCTA5 99923</td>\n",
       "      <td>87</td>\n",
       "      <td>90</td>\n",
       "      <td>56.002315</td>\n",
       "      <td>-130.041026</td>\n",
       "      <td>Hyder</td>\n",
       "      <td>Alaska</td>\n",
       "      <td>AK</td>\n",
       "      <td>Prince of Wales-Hyder</td>\n",
       "      <td>2.42</td>\n",
       "      <td>999</td>\n",
       "    </tr>\n",
       "    <tr>\n",
       "      <th>32828</th>\n",
       "      <td>99925</td>\n",
       "      <td>144503281</td>\n",
       "      <td>36906383</td>\n",
       "      <td>ZCTA5 99925</td>\n",
       "      <td>819</td>\n",
       "      <td>400</td>\n",
       "      <td>55.550204</td>\n",
       "      <td>-132.945933</td>\n",
       "      <td>Klawock</td>\n",
       "      <td>Alaska</td>\n",
       "      <td>AK</td>\n",
       "      <td>Prince of Wales-Hyder</td>\n",
       "      <td>5.67</td>\n",
       "      <td>999</td>\n",
       "    </tr>\n",
       "    <tr>\n",
       "      <th>32829</th>\n",
       "      <td>99926</td>\n",
       "      <td>343947256</td>\n",
       "      <td>213335869</td>\n",
       "      <td>ZCTA5 99926</td>\n",
       "      <td>1460</td>\n",
       "      <td>544</td>\n",
       "      <td>55.138069</td>\n",
       "      <td>-131.470741</td>\n",
       "      <td>Metlakatla</td>\n",
       "      <td>Alaska</td>\n",
       "      <td>AK</td>\n",
       "      <td>Prince of Wales-Hyder</td>\n",
       "      <td>4.24</td>\n",
       "      <td>999</td>\n",
       "    </tr>\n",
       "    <tr>\n",
       "      <th>32830</th>\n",
       "      <td>99927</td>\n",
       "      <td>589688205</td>\n",
       "      <td>18001151</td>\n",
       "      <td>ZCTA5 99927</td>\n",
       "      <td>94</td>\n",
       "      <td>101</td>\n",
       "      <td>56.239062</td>\n",
       "      <td>-133.457924</td>\n",
       "      <td>Point Baker</td>\n",
       "      <td>Alaska</td>\n",
       "      <td>AK</td>\n",
       "      <td>Prince of Wales-Hyder</td>\n",
       "      <td>0.16</td>\n",
       "      <td>999</td>\n",
       "    </tr>\n",
       "    <tr>\n",
       "      <th>32831</th>\n",
       "      <td>99929</td>\n",
       "      <td>5598556684</td>\n",
       "      <td>637412657</td>\n",
       "      <td>ZCTA5 99929</td>\n",
       "      <td>2338</td>\n",
       "      <td>1339</td>\n",
       "      <td>56.413828</td>\n",
       "      <td>-131.606832</td>\n",
       "      <td>Wrangell</td>\n",
       "      <td>Alaska</td>\n",
       "      <td>AK</td>\n",
       "      <td>Wrangell-Petersburg (C</td>\n",
       "      <td>0.42</td>\n",
       "      <td>999</td>\n",
       "    </tr>\n",
       "  </tbody>\n",
       "</table>\n",
       "<p>32832 rows × 14 columns</p>\n",
       "</div>"
      ],
      "text/plain": [
       "       zcta5    arealand   areawatr         name  pop100  hu100   intptlat  \\\n",
       "0       1001    29635470    2229770  ZCTA5 01001   16769   7557  42.062332   \n",
       "1       1002   142556362    4280260  ZCTA5 01002   29049  10388  42.363977   \n",
       "2       1003     1842384      12788  ZCTA5 01003   10372      5  42.389941   \n",
       "3       1005   114586903     667042  ZCTA5 01005    5079   2044  42.418848   \n",
       "4       1007   136345999    6943853  ZCTA5 01007   14649   5839  42.279010   \n",
       "...      ...         ...        ...          ...     ...    ...        ...   \n",
       "32827  99923    35937519       2117  ZCTA5 99923      87     90  56.002315   \n",
       "32828  99925   144503281   36906383  ZCTA5 99925     819    400  55.550204   \n",
       "32829  99926   343947256  213335869  ZCTA5 99926    1460    544  55.138069   \n",
       "32830  99927   589688205   18001151  ZCTA5 99927      94    101  56.239062   \n",
       "32831  99929  5598556684  637412657  ZCTA5 99929    2338   1339  56.413828   \n",
       "\n",
       "         intptlon         city          state stusab                  county  \\\n",
       "0      -72.628274       Agawam  Massachusetts     MA                 Hampden   \n",
       "1      -72.458507      Amherst  Massachusetts     MA               Hampshire   \n",
       "2      -72.524108      Amherst  Massachusetts     MA               Hampshire   \n",
       "3      -72.106598        Barre  Massachusetts     MA               Worcester   \n",
       "4      -72.400468  Belchertown  Massachusetts     MA               Hampshire   \n",
       "...           ...          ...            ...    ...                     ...   \n",
       "32827 -130.041026        Hyder         Alaska     AK   Prince of Wales-Hyder   \n",
       "32828 -132.945933      Klawock         Alaska     AK   Prince of Wales-Hyder   \n",
       "32829 -131.470741   Metlakatla         Alaska     AK   Prince of Wales-Hyder   \n",
       "32830 -133.457924  Point Baker         Alaska     AK   Prince of Wales-Hyder   \n",
       "32831 -131.606832     Wrangell         Alaska     AK  Wrangell-Petersburg (C   \n",
       "\n",
       "       popdensity  zcta3  \n",
       "0          565.84     10  \n",
       "1          203.77     10  \n",
       "2         5629.66     10  \n",
       "3           44.32     10  \n",
       "4          107.44     10  \n",
       "...           ...    ...  \n",
       "32827        2.42    999  \n",
       "32828        5.67    999  \n",
       "32829        4.24    999  \n",
       "32830        0.16    999  \n",
       "32831        0.42    999  \n",
       "\n",
       "[32832 rows x 14 columns]"
      ]
     },
     "execution_count": 482,
     "metadata": {},
     "output_type": "execute_result"
    }
   ],
   "source": [
    "#creating new column for 3 digit zip codes\n",
    "#df[\"popdensity\"] = round(df[\"pop100\"] / (df[\"arealand\"]/1000000),2)\n",
    "\n",
    "df[\"zcta3\"] = (df[\"zcta5\"] - (df[\"zcta5\"] % 100)) // 100  \n",
    "df"
   ]
  },
  {
   "cell_type": "code",
   "execution_count": 483,
   "id": "dabd60a4",
   "metadata": {},
   "outputs": [
    {
     "data": {
      "text/html": [
       "<div>\n",
       "<style scoped>\n",
       "    .dataframe tbody tr th:only-of-type {\n",
       "        vertical-align: middle;\n",
       "    }\n",
       "\n",
       "    .dataframe tbody tr th {\n",
       "        vertical-align: top;\n",
       "    }\n",
       "\n",
       "    .dataframe thead th {\n",
       "        text-align: right;\n",
       "    }\n",
       "</style>\n",
       "<table border=\"1\" class=\"dataframe\">\n",
       "  <thead>\n",
       "    <tr style=\"text-align: right;\">\n",
       "      <th></th>\n",
       "      <th>state</th>\n",
       "      <th>zcta3</th>\n",
       "      <th>city</th>\n",
       "    </tr>\n",
       "  </thead>\n",
       "  <tbody>\n",
       "    <tr>\n",
       "      <th>1648</th>\n",
       "      <td>Connecticut</td>\n",
       "      <td>63</td>\n",
       "      <td>New London</td>\n",
       "    </tr>\n",
       "    <tr>\n",
       "      <th>1682</th>\n",
       "      <td>New York</td>\n",
       "      <td>63</td>\n",
       "      <td>Fishers Island</td>\n",
       "    </tr>\n",
       "    <tr>\n",
       "      <th>28323</th>\n",
       "      <td>Idaho</td>\n",
       "      <td>834</td>\n",
       "      <td>Idaho Falls</td>\n",
       "    </tr>\n",
       "    <tr>\n",
       "      <th>28327</th>\n",
       "      <td>Wyoming</td>\n",
       "      <td>834</td>\n",
       "      <td>Alta</td>\n",
       "    </tr>\n",
       "  </tbody>\n",
       "</table>\n",
       "</div>"
      ],
      "text/plain": [
       "             state  zcta3            city\n",
       "1648   Connecticut     63      New London\n",
       "1682      New York     63  Fishers Island\n",
       "28323        Idaho    834     Idaho Falls\n",
       "28327      Wyoming    834            Alta"
      ]
     },
     "execution_count": 483,
     "metadata": {},
     "output_type": "execute_result"
    }
   ],
   "source": [
    "#create a new dataframe where it is only state and zcta3, then remove duplicate state,zcta3 pairs\n",
    "df2 = df[['state', 'zcta3','city']].drop_duplicates(subset = ['state','zcta3'])\n",
    "\n",
    "\n",
    "#find the zcta3 values that have more than one state\n",
    "df2[df2.duplicated(['zcta3'],keep=False)]\n"
   ]
  },
  {
   "cell_type": "markdown",
   "id": "dcad9c1a",
   "metadata": {},
   "source": [
    "<h3>ii)<h3>"
   ]
  },
  {
   "cell_type": "markdown",
   "id": "8c897732",
   "metadata": {},
   "source": [
    "<p1>The residents of these particular places have higher risk of re-identification because their 3 digit ZIP code is a part of a small subgroup of locations. This could make cross-referencing data to public records easier to potentially get their 5 digit ZIP code knowing they belong to this sub-category.<p1>"
   ]
  },
  {
   "cell_type": "markdown",
   "id": "aedc01bf",
   "metadata": {},
   "source": [
    "<h3>iii)<h3>"
   ]
  },
  {
   "cell_type": "markdown",
   "id": "9a1fd95e",
   "metadata": {},
   "source": [
    "<p1>Potentially what could be done is identifying the specific rows that would be classified as \"high risk\" and remove them from the data set. Determining whether someone is high risk would be a case of considering which data could be overlapping with publically available data. This would however reduce the value of the dataset so it would be important to fine tune the risk assessment process of the data.<p1>"
   ]
  },
  {
   "cell_type": "markdown",
   "id": "6fe16ce0",
   "metadata": {},
   "source": [
    "<h2>e)<h2>"
   ]
  },
  {
   "cell_type": "code",
   "execution_count": 484,
   "id": "2a622a66",
   "metadata": {},
   "outputs": [
    {
     "data": {
      "text/html": [
       "<div>\n",
       "<style scoped>\n",
       "    .dataframe tbody tr th:only-of-type {\n",
       "        vertical-align: middle;\n",
       "    }\n",
       "\n",
       "    .dataframe tbody tr th {\n",
       "        vertical-align: top;\n",
       "    }\n",
       "\n",
       "    .dataframe thead th {\n",
       "        text-align: right;\n",
       "    }\n",
       "</style>\n",
       "<table border=\"1\" class=\"dataframe\">\n",
       "  <thead>\n",
       "    <tr style=\"text-align: right;\">\n",
       "      <th></th>\n",
       "      <th>zcta3</th>\n",
       "      <th>state</th>\n",
       "      <th>pop100</th>\n",
       "      <th>arealand</th>\n",
       "      <th>popdensity</th>\n",
       "    </tr>\n",
       "  </thead>\n",
       "  <tbody>\n",
       "    <tr>\n",
       "      <th>0</th>\n",
       "      <td>10</td>\n",
       "      <td>Massachusetts</td>\n",
       "      <td>469375</td>\n",
       "      <td>3280116609</td>\n",
       "      <td>143.10</td>\n",
       "    </tr>\n",
       "    <tr>\n",
       "      <th>1</th>\n",
       "      <td>11</td>\n",
       "      <td>Massachusetts</td>\n",
       "      <td>168835</td>\n",
       "      <td>106054753</td>\n",
       "      <td>1591.96</td>\n",
       "    </tr>\n",
       "    <tr>\n",
       "      <th>2</th>\n",
       "      <td>12</td>\n",
       "      <td>Massachusetts</td>\n",
       "      <td>130689</td>\n",
       "      <td>2360467856</td>\n",
       "      <td>55.37</td>\n",
       "    </tr>\n",
       "    <tr>\n",
       "      <th>3</th>\n",
       "      <td>13</td>\n",
       "      <td>Massachusetts</td>\n",
       "      <td>83111</td>\n",
       "      <td>2029083678</td>\n",
       "      <td>40.96</td>\n",
       "    </tr>\n",
       "    <tr>\n",
       "      <th>4</th>\n",
       "      <td>14</td>\n",
       "      <td>Massachusetts</td>\n",
       "      <td>211812</td>\n",
       "      <td>1231149054</td>\n",
       "      <td>172.04</td>\n",
       "    </tr>\n",
       "  </tbody>\n",
       "</table>\n",
       "</div>"
      ],
      "text/plain": [
       "   zcta3          state  pop100    arealand  popdensity\n",
       "0     10  Massachusetts  469375  3280116609      143.10\n",
       "1     11  Massachusetts  168835   106054753     1591.96\n",
       "2     12  Massachusetts  130689  2360467856       55.37\n",
       "3     13  Massachusetts   83111  2029083678       40.96\n",
       "4     14  Massachusetts  211812  1231149054      172.04"
      ]
     },
     "execution_count": 484,
     "metadata": {},
     "output_type": "execute_result"
    }
   ],
   "source": [
    "#3zcta, state, pop100, arealand\n",
    "df_e = df[['zcta3','state', 'pop100', 'arealand']].drop(labels = [1648 ,1682, 28323, 28327])\n",
    "df_e = df_e.groupby(['zcta3', 'state'])[['pop100', 'arealand']].sum()\n",
    "df_e[\"popdensity\"] = round(df_e[\"pop100\"] / (df_e[\"arealand\"]/1000000),2)\n",
    "df_e = df_e.reset_index()\n",
    "df_e.head()"
   ]
  },
  {
   "cell_type": "markdown",
   "id": "320ceff9",
   "metadata": {},
   "source": [
    "<h3>i)<h3>"
   ]
  },
  {
   "cell_type": "code",
   "execution_count": 485,
   "id": "8996c3ef",
   "metadata": {},
   "outputs": [
    {
     "data": {
      "text/html": [
       "<div>\n",
       "<style scoped>\n",
       "    .dataframe tbody tr th:only-of-type {\n",
       "        vertical-align: middle;\n",
       "    }\n",
       "\n",
       "    .dataframe tbody tr th {\n",
       "        vertical-align: top;\n",
       "    }\n",
       "\n",
       "    .dataframe thead th {\n",
       "        text-align: right;\n",
       "    }\n",
       "</style>\n",
       "<table border=\"1\" class=\"dataframe\">\n",
       "  <thead>\n",
       "    <tr style=\"text-align: right;\">\n",
       "      <th></th>\n",
       "      <th>zcta3</th>\n",
       "      <th>state</th>\n",
       "      <th>pop100</th>\n",
       "      <th>arealand</th>\n",
       "      <th>popdensity</th>\n",
       "    </tr>\n",
       "  </thead>\n",
       "  <tbody>\n",
       "    <tr>\n",
       "      <th>26</th>\n",
       "      <td>36</td>\n",
       "      <td>New Hampshire</td>\n",
       "      <td>13759</td>\n",
       "      <td>525626811</td>\n",
       "      <td>26.18</td>\n",
       "    </tr>\n",
       "    <tr>\n",
       "      <th>48</th>\n",
       "      <td>59</td>\n",
       "      <td>Vermont</td>\n",
       "      <td>3525</td>\n",
       "      <td>1168172499</td>\n",
       "      <td>3.02</td>\n",
       "    </tr>\n",
       "    <tr>\n",
       "      <th>81</th>\n",
       "      <td>102</td>\n",
       "      <td>New York</td>\n",
       "      <td>12636</td>\n",
       "      <td>585228</td>\n",
       "      <td>21591.58</td>\n",
       "    </tr>\n",
       "    <tr>\n",
       "      <th>180</th>\n",
       "      <td>203</td>\n",
       "      <td>District of Columbia</td>\n",
       "      <td>1702</td>\n",
       "      <td>2489901</td>\n",
       "      <td>683.56</td>\n",
       "    </tr>\n",
       "    <tr>\n",
       "      <th>336</th>\n",
       "      <td>369</td>\n",
       "      <td>Alabama</td>\n",
       "      <td>19164</td>\n",
       "      <td>3159815117</td>\n",
       "      <td>6.06</td>\n",
       "    </tr>\n",
       "    <tr>\n",
       "      <th>508</th>\n",
       "      <td>556</td>\n",
       "      <td>Minnesota</td>\n",
       "      <td>16024</td>\n",
       "      <td>7788672063</td>\n",
       "      <td>2.06</td>\n",
       "    </tr>\n",
       "    <tr>\n",
       "      <th>631</th>\n",
       "      <td>692</td>\n",
       "      <td>Nebraska</td>\n",
       "      <td>8637</td>\n",
       "      <td>12215685056</td>\n",
       "      <td>0.71</td>\n",
       "    </tr>\n",
       "    <tr>\n",
       "      <th>742</th>\n",
       "      <td>821</td>\n",
       "      <td>Wyoming</td>\n",
       "      <td>369</td>\n",
       "      <td>7698493836</td>\n",
       "      <td>0.05</td>\n",
       "    </tr>\n",
       "    <tr>\n",
       "      <th>744</th>\n",
       "      <td>823</td>\n",
       "      <td>Wyoming</td>\n",
       "      <td>16430</td>\n",
       "      <td>13883818454</td>\n",
       "      <td>1.18</td>\n",
       "    </tr>\n",
       "    <tr>\n",
       "      <th>785</th>\n",
       "      <td>878</td>\n",
       "      <td>New Mexico</td>\n",
       "      <td>18552</td>\n",
       "      <td>24362674732</td>\n",
       "      <td>0.76</td>\n",
       "    </tr>\n",
       "    <tr>\n",
       "      <th>786</th>\n",
       "      <td>879</td>\n",
       "      <td>New Mexico</td>\n",
       "      <td>17432</td>\n",
       "      <td>7110318330</td>\n",
       "      <td>2.45</td>\n",
       "    </tr>\n",
       "    <tr>\n",
       "      <th>791</th>\n",
       "      <td>884</td>\n",
       "      <td>New Mexico</td>\n",
       "      <td>17370</td>\n",
       "      <td>25465767488</td>\n",
       "      <td>0.68</td>\n",
       "    </tr>\n",
       "    <tr>\n",
       "      <th>794</th>\n",
       "      <td>893</td>\n",
       "      <td>Nevada</td>\n",
       "      <td>12103</td>\n",
       "      <td>18040900958</td>\n",
       "      <td>0.67</td>\n",
       "    </tr>\n",
       "  </tbody>\n",
       "</table>\n",
       "</div>"
      ],
      "text/plain": [
       "     zcta3                 state  pop100     arealand  popdensity\n",
       "26      36         New Hampshire   13759    525626811       26.18\n",
       "48      59               Vermont    3525   1168172499        3.02\n",
       "81     102              New York   12636       585228    21591.58\n",
       "180    203  District of Columbia    1702      2489901      683.56\n",
       "336    369               Alabama   19164   3159815117        6.06\n",
       "508    556             Minnesota   16024   7788672063        2.06\n",
       "631    692              Nebraska    8637  12215685056        0.71\n",
       "742    821               Wyoming     369   7698493836        0.05\n",
       "744    823               Wyoming   16430  13883818454        1.18\n",
       "785    878            New Mexico   18552  24362674732        0.76\n",
       "786    879            New Mexico   17432   7110318330        2.45\n",
       "791    884            New Mexico   17370  25465767488        0.68\n",
       "794    893                Nevada   12103  18040900958        0.67"
      ]
     },
     "execution_count": 485,
     "metadata": {},
     "output_type": "execute_result"
    }
   ],
   "source": [
    "#the 3-digit zip codes with population less than 20,000\n",
    "e_i = df_e.query('10 < pop100 < 20000')\n",
    "e_i"
   ]
  },
  {
   "cell_type": "code",
   "execution_count": 486,
   "id": "b3436900",
   "metadata": {},
   "outputs": [
    {
     "data": {
      "text/plain": [
       "13"
      ]
     },
     "execution_count": 486,
     "metadata": {},
     "output_type": "execute_result"
    }
   ],
   "source": [
    "#number of 3-digit zip codes with population less than 20,000\n",
    "len(e_i.pop100)"
   ]
  },
  {
   "cell_type": "markdown",
   "id": "3f389d03",
   "metadata": {},
   "source": [
    "<h3>ii)<h3>"
   ]
  },
  {
   "cell_type": "markdown",
   "id": "672be7f2",
   "metadata": {},
   "source": [
    "<p1>I would say that it is good that these 3 digit ZIP codes have been recognised as a particularly high risk group considering the small population assigned to them. Amalgamating them into a single group makes it statistically more difficult for potential attackers to re-identify these people purely based on the number of people who now have the same 3 digit ZIP code. The more people that are in a known ZIP code, the harder it will be to pinpoint who an individual is based on anonymous data. However, I think that if they would have any other information referring to location on these particular people it may be a detriment as it would be easier to narrow down from the 13 places in the group.<p1>"
   ]
  },
  {
   "cell_type": "markdown",
   "id": "21216cd4",
   "metadata": {},
   "source": [
    "<h3>iii)<h3>"
   ]
  },
  {
   "cell_type": "markdown",
   "id": "eae58b0e",
   "metadata": {},
   "source": [
    "<p1> \n",
    "Rather than amalgamating the low population zip-codes into their own seperate group I would suggest that they get added to one of their neighbouring ZIP codes. This way they are essentially added to the population of a larger ZIP code and decreasing the chance of being identified from a dataset. I think this would be an option worth exploring for this problem. There may be other implications that I am not aware of with this method but I think it is worth discussing. \n",
    "<p1>"
   ]
  },
  {
   "cell_type": "markdown",
   "id": "a84d6dc9",
   "metadata": {},
   "source": [
    "<h3>iv)<h3>"
   ]
  },
  {
   "cell_type": "code",
   "execution_count": 487,
   "id": "062a7e41",
   "metadata": {},
   "outputs": [
    {
     "data": {
      "text/plain": [
       "<AxesSubplot:xlabel='zcta3', ylabel='popdensity'>"
      ]
     },
     "execution_count": 487,
     "metadata": {},
     "output_type": "execute_result"
    },
    {
     "data": {
      "image/png": "[encoded data removed]",
      "text/plain": [
       "<Figure size 432x288 with 1 Axes>"
      ]
     },
     "metadata": {},
     "output_type": "display_data"
    }
   ],
   "source": [
    "#ploting zct3 against popdensity on a bar plot\n",
    "sns.set_style('darkgrid')\n",
    "sns.barplot(x = 'zcta3', y = 'popdensity', data = e_i)"
   ]
  },
  {
   "cell_type": "markdown",
   "id": "bec2710a",
   "metadata": {},
   "source": [
    "<p1>There is a clear outlier here in zcta3 = 102. The population density is extreme compared to the others in this subset. The only other zip-code that is visible on the graph is 203 and it is a large margin behind 102 still. In the scope of this selecive data they are both outliers in terms of their population density. This does show that the population density of these low population zip-codes are generally very low. They have low populations but their land area is high in comparison.<p1>"
   ]
  },
  {
   "cell_type": "code",
   "execution_count": 488,
   "id": "cba3cc2f",
   "metadata": {},
   "outputs": [
    {
     "data": {
      "text/plain": [
       "<AxesSubplot:xlabel='zcta3', ylabel='popdensity'>"
      ]
     },
     "execution_count": 488,
     "metadata": {},
     "output_type": "execute_result"
    },
    {
     "data": {
      "image/png": "[encoded data removed]",
      "text/plain": [
       "<Figure size 432x288 with 1 Axes>"
      ]
     },
     "metadata": {},
     "output_type": "display_data"
    }
   ],
   "source": [
    "#removing the outliers\n",
    "e_i = e_i[e_i.index != 81]\n",
    "e_i = e_i[e_i.index != 180]\n",
    "\n",
    "sns.barplot(x = 'zcta3', y = 'popdensity', data = e_i)"
   ]
  },
  {
   "cell_type": "markdown",
   "id": "1b591229",
   "metadata": {},
   "source": [
    "<h3>v)<h3>"
   ]
  },
  {
   "cell_type": "code",
   "execution_count": 489,
   "id": "1c3936cb",
   "metadata": {},
   "outputs": [
    {
     "data": {
      "text/plain": [
       "zcta3                821\n",
       "state            Wyoming\n",
       "pop100               369\n",
       "arealand      7698493836\n",
       "popdensity          0.05\n",
       "Name: 742, dtype: object"
      ]
     },
     "execution_count": 489,
     "metadata": {},
     "output_type": "execute_result"
    }
   ],
   "source": [
    "df_e.loc[df_e['popdensity'].idxmin()]"
   ]
  },
  {
   "cell_type": "markdown",
   "id": "4b43b240",
   "metadata": {},
   "source": [
    "<p1>I think I would've expected it to be a ZIP code in Alaska since it has the lowest population density of any state. However, it is not too surprising since Wyoming also has a low population density. <p1>"
   ]
  },
  {
   "cell_type": "markdown",
   "id": "ba412381",
   "metadata": {},
   "source": [
    "<h2>f)<h2>"
   ]
  },
  {
   "cell_type": "markdown",
   "id": "659212aa",
   "metadata": {},
   "source": [
    "<p1>\n",
    "    \n",
    "As you would expect, the population sizes for 5-digit ZIP codes are on a much smaller scale than the 3-digit ZIP codes. In both distributions it is evident that the majority of the ZIP codes are on the lower end in terms of population size. The gap between the median for both distributions are far away from the maximum value in these data sets, and are skewed heavily towards the lower end of the distribution. When considering the entirety of the two data sets, they are shaped quite similarly.\n",
    "\n",
    "Now I will discuss the top 100 populated ZIP codes from both distributions. In the 5 digit ZIP codes the population amongst the top 100 has a more even distribution when comparing it to the top 100 3 digit ZIP codes. The top 100 3 digit ZIP codes are more skewed towards the lower end of the distribution. They are both still very top heavy in terms of population size. An interesting thing to note also is that the 3 digit ZIP code distribution in this case has a lot more outliers than the 5 digit ZIP code distribution. This shows that there are a select number of zip codes that hold the majority of the population. \n",
    "    \n",
    "Next I will discuss the 100 lowest populated ZIP codes from both distributions. In the 5 digit ZIP codes the distribution is very normalised, and the 3 digit ZIP code distribution is skewed toward the higher end of the distribution surprisingly. This indicates that there are not many 3 digit ZIP codes that have a very low population whereas there are a lot of 5 digit ZIP codes that have a low population. \n",
    "    \n",
    "In general, the data presents that the ZIP codes at the top of the distribution in terms of population have very large populations and there is not many of them. This is why they are considered to be outliers in the distribution. A large number of 5 digit ZIP codes have very few people populating them, where only a handful of 3 digit ZIP codes have very low population numbers. \n",
    "<p1>"
   ]
  },
  {
   "cell_type": "markdown",
   "id": "1b4bb60f",
   "metadata": {},
   "source": [
    "<h2> Appendix <h2>"
   ]
  },
  {
   "cell_type": "code",
   "execution_count": 490,
   "id": "c96e2e97",
   "metadata": {},
   "outputs": [
    {
     "data": {
      "text/plain": [
       "[Text(0.5, 1.0, 'Distribution of population across 5 digit ZIP codes')]"
      ]
     },
     "execution_count": 490,
     "metadata": {},
     "output_type": "execute_result"
    },
    {
     "data": {
      "image/png": "[encoded data removed]",
      "text/plain": [
       "<Figure size 432x288 with 1 Axes>"
      ]
     },
     "metadata": {},
     "output_type": "display_data"
    }
   ],
   "source": [
    "#Box plot showing the entire distribution of population sizes for 5 digit ZIP codes\n",
    "sns.boxplot(x=df['pop100']).set(title = \"Distribution of population across 5 digit ZIP codes\")"
   ]
  },
  {
   "cell_type": "code",
   "execution_count": 491,
   "id": "bfdc4c33",
   "metadata": {},
   "outputs": [
    {
     "data": {
      "text/plain": [
       "[Text(0.5, 1.0, 'Distribution of population across 3 digit ZIP codes')]"
      ]
     },
     "execution_count": 491,
     "metadata": {},
     "output_type": "execute_result"
    },
    {
     "data": {
      "image/png": "[encoded data removed]",
      "text/plain": [
       "<Figure size 432x288 with 1 Axes>"
      ]
     },
     "metadata": {},
     "output_type": "display_data"
    }
   ],
   "source": [
    "#Box plot showing the entire distribution of population sizes for 3 digit ZIP codes\n",
    "sns.boxplot(x=df_e['pop100']).set(title = \"Distribution of population across 3 digit ZIP codes\")"
   ]
  },
  {
   "cell_type": "code",
   "execution_count": 492,
   "id": "3ace1e7a",
   "metadata": {},
   "outputs": [
    {
     "data": {
      "text/plain": [
       "[Text(0.5, 1.0, 'Top 100 populated 5 digit ZIP codes')]"
      ]
     },
     "execution_count": 492,
     "metadata": {},
     "output_type": "execute_result"
    },
    {
     "data": {
      "image/png": "[encoded data removed]",
      "text/plain": [
       "<Figure size 432x288 with 1 Axes>"
      ]
     },
     "metadata": {},
     "output_type": "display_data"
    }
   ],
   "source": [
    "#Box plot showing top 100 populated 5 digit ZIP codes\n",
    "df_plt = df.nlargest(100, 'pop100')\n",
    "sns.boxplot(x = df_plt['pop100']).set(title = \"Top 100 populated 5 digit ZIP codes\")"
   ]
  },
  {
   "cell_type": "code",
   "execution_count": 493,
   "id": "ccf4cc2e",
   "metadata": {},
   "outputs": [
    {
     "data": {
      "text/plain": [
       "[Text(0.5, 1.0, 'Top 100 populated 3 digit ZIP codes')]"
      ]
     },
     "execution_count": 493,
     "metadata": {},
     "output_type": "execute_result"
    },
    {
     "data": {
      "image/png": "[encoded data removed]",
      "text/plain": [
       "<Figure size 432x288 with 1 Axes>"
      ]
     },
     "metadata": {},
     "output_type": "display_data"
    }
   ],
   "source": [
    "#Box plot showing top 100 populated 3 digit ZIP codes\n",
    "df_e_plt = df_e.nlargest(100, 'pop100')\n",
    "sns.boxplot(x = df_e_plt['pop100']).set(title = \"Top 100 populated 3 digit ZIP codes\")"
   ]
  },
  {
   "cell_type": "code",
   "execution_count": 494,
   "id": "71a5ee6d",
   "metadata": {},
   "outputs": [
    {
     "data": {
      "text/plain": [
       "[Text(0.5, 1.0, '100 Lowest populated 5 digit ZIP codes')]"
      ]
     },
     "execution_count": 494,
     "metadata": {},
     "output_type": "execute_result"
    },
    {
     "data": {
      "image/png": "[encoded data removed]",
      "text/plain": [
       "<Figure size 432x288 with 1 Axes>"
      ]
     },
     "metadata": {},
     "output_type": "display_data"
    }
   ],
   "source": [
    "#Box plot showing 100 lowest populated 5 digit ZIP codes\n",
    "df_plt = df.nsmallest(100, 'pop100')\n",
    "sns.boxplot(x = df_plt['pop100']).set(title = \"100 Lowest populated 5 digit ZIP codes\")"
   ]
  },
  {
   "cell_type": "code",
   "execution_count": 495,
   "id": "87eaf703",
   "metadata": {},
   "outputs": [
    {
     "data": {
      "text/plain": [
       "[Text(0.5, 1.0, '100 Lowest populated 3 digit ZIP codes')]"
      ]
     },
     "execution_count": 495,
     "metadata": {},
     "output_type": "execute_result"
    },
    {
     "data": {
      "image/png": "[encoded data removed]",
      "text/plain": [
       "<Figure size 432x288 with 1 Axes>"
      ]
     },
     "metadata": {},
     "output_type": "display_data"
    }
   ],
   "source": [
    "#Box plot showing 100 lowest populated 3 digit ZIP codes\n",
    "df_e_plt = df_e.nsmallest(100, 'pop100')\n",
    "sns.boxplot(x = df_e_plt['pop100']).set(title = \"100 Lowest populated 3 digit ZIP codes\")"
   ]
  },
  {
   "cell_type": "code",
   "execution_count": null,
   "id": "ffe4c875",
   "metadata": {},
   "outputs": [],
   "source": []
  }
 ],
 "metadata": {
  "kernelspec": {
   "display_name": "Python 3 (ipykernel)",
   "language": "python",
   "name": "python3"
  },
  "language_info": {
   "codemirror_mode": {
    "name": "ipython",
    "version": 3
   },
   "file_extension": ".py",
   "mimetype": "text/x-python",
   "name": "python",
   "nbconvert_exporter": "python",
   "pygments_lexer": "ipython3",
   "version": "3.9.7"
  }
 },
 "nbformat": 4,
 "nbformat_minor": 5
}
